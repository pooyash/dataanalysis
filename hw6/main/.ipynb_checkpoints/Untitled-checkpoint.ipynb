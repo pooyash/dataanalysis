{
 "cells": [
  {
   "cell_type": "markdown",
   "id": "4ca1f7e1",
   "metadata": {},
   "source": [
    "# importing libraries"
   ]
  },
  {
   "cell_type": "code",
   "execution_count": 2,
   "id": "6f6a94b6",
   "metadata": {},
   "outputs": [],
   "source": [
    "import pandas as pd\n",
    "import numpy as np\n",
    "import matplotlib.pyplot as plt\n",
    "import seaborn as sns\n",
    "import warnings"
   ]
  },
  {
   "cell_type": "markdown",
   "id": "5829dec4",
   "metadata": {},
   "source": [
    "# setting the dataframe output"
   ]
  },
  {
   "cell_type": "code",
   "execution_count": 3,
   "id": "952c4193",
   "metadata": {},
   "outputs": [
    {
     "data": {
      "text/plain": [
       "<Figure size 1008x1152 with 0 Axes>"
      ]
     },
     "metadata": {},
     "output_type": "display_data"
    }
   ],
   "source": [
    "sns.set(rc={'figure.figsize': (13, 12)});\n",
    "plt.figure(figsize=(14, 16));\n",
    "pd.options.mode.chained_assignment = None\n",
    "warnings.filterwarnings(\"ignore\", category=FutureWarning);"
   ]
  },
  {
   "cell_type": "markdown",
   "id": "5dc4ef71",
   "metadata": {},
   "source": [
    "# loading the data"
   ]
  },
  {
   "cell_type": "code",
   "execution_count": 4,
   "id": "a0cad3fa",
   "metadata": {},
   "outputs": [],
   "source": [
    "data = pd.read_csv('Car_sale_ads.csv')\n",
    "\n"
   ]
  },
  {
   "cell_type": "markdown",
   "id": "ad096e27",
   "metadata": {},
   "source": [
    "# a glimpse of data"
   ]
  },
  {
   "cell_type": "code",
   "execution_count": 5,
   "id": "f08b5f58",
   "metadata": {},
   "outputs": [
    {
     "data": {
      "text/html": [
       "<div>\n",
       "<style scoped>\n",
       "    .dataframe tbody tr th:only-of-type {\n",
       "        vertical-align: middle;\n",
       "    }\n",
       "\n",
       "    .dataframe tbody tr th {\n",
       "        vertical-align: top;\n",
       "    }\n",
       "\n",
       "    .dataframe thead th {\n",
       "        text-align: right;\n",
       "    }\n",
       "</style>\n",
       "<table border=\"1\" class=\"dataframe\">\n",
       "  <thead>\n",
       "    <tr style=\"text-align: right;\">\n",
       "      <th></th>\n",
       "      <th>Index</th>\n",
       "      <th>Price</th>\n",
       "      <th>Currency</th>\n",
       "      <th>Condition</th>\n",
       "      <th>Vehicle_brand</th>\n",
       "      <th>Vehicle_model</th>\n",
       "      <th>Vehicle_version</th>\n",
       "      <th>Vehicle_generation</th>\n",
       "      <th>Production_year</th>\n",
       "      <th>Mileage_km</th>\n",
       "      <th>...</th>\n",
       "      <th>Transmission</th>\n",
       "      <th>Type</th>\n",
       "      <th>Doors_number</th>\n",
       "      <th>Colour</th>\n",
       "      <th>Origin_country</th>\n",
       "      <th>First_owner</th>\n",
       "      <th>First_registration_date</th>\n",
       "      <th>Offer_publication_date</th>\n",
       "      <th>Offer_location</th>\n",
       "      <th>Features</th>\n",
       "    </tr>\n",
       "  </thead>\n",
       "  <tbody>\n",
       "    <tr>\n",
       "      <th>0</th>\n",
       "      <td>0</td>\n",
       "      <td>86200</td>\n",
       "      <td>PLN</td>\n",
       "      <td>New</td>\n",
       "      <td>Abarth</td>\n",
       "      <td>595</td>\n",
       "      <td>NaN</td>\n",
       "      <td>NaN</td>\n",
       "      <td>2021</td>\n",
       "      <td>1.0</td>\n",
       "      <td>...</td>\n",
       "      <td>Manual</td>\n",
       "      <td>small_cars</td>\n",
       "      <td>3.0</td>\n",
       "      <td>gray</td>\n",
       "      <td>NaN</td>\n",
       "      <td>NaN</td>\n",
       "      <td>NaN</td>\n",
       "      <td>04/05/2021</td>\n",
       "      <td>ul. Jubilerska 6 - 04-190 Warszawa, Mazowiecki...</td>\n",
       "      <td>[]</td>\n",
       "    </tr>\n",
       "    <tr>\n",
       "      <th>1</th>\n",
       "      <td>1</td>\n",
       "      <td>43500</td>\n",
       "      <td>PLN</td>\n",
       "      <td>Used</td>\n",
       "      <td>Abarth</td>\n",
       "      <td>Other</td>\n",
       "      <td>NaN</td>\n",
       "      <td>NaN</td>\n",
       "      <td>1974</td>\n",
       "      <td>59000.0</td>\n",
       "      <td>...</td>\n",
       "      <td>Manual</td>\n",
       "      <td>coupe</td>\n",
       "      <td>2.0</td>\n",
       "      <td>silver</td>\n",
       "      <td>NaN</td>\n",
       "      <td>NaN</td>\n",
       "      <td>NaN</td>\n",
       "      <td>03/05/2021</td>\n",
       "      <td>kanonierska12 - 04-425 Warszawa, Rembertów (Po...</td>\n",
       "      <td>[]</td>\n",
       "    </tr>\n",
       "    <tr>\n",
       "      <th>2</th>\n",
       "      <td>2</td>\n",
       "      <td>44900</td>\n",
       "      <td>PLN</td>\n",
       "      <td>Used</td>\n",
       "      <td>Abarth</td>\n",
       "      <td>500</td>\n",
       "      <td>NaN</td>\n",
       "      <td>NaN</td>\n",
       "      <td>2018</td>\n",
       "      <td>52000.0</td>\n",
       "      <td>...</td>\n",
       "      <td>Automatic</td>\n",
       "      <td>small_cars</td>\n",
       "      <td>3.0</td>\n",
       "      <td>silver</td>\n",
       "      <td>NaN</td>\n",
       "      <td>NaN</td>\n",
       "      <td>NaN</td>\n",
       "      <td>03/05/2021</td>\n",
       "      <td>Warszawa, Mazowieckie, Białołęka</td>\n",
       "      <td>['ABS', 'Electric front windows', 'Drivers air...</td>\n",
       "    </tr>\n",
       "    <tr>\n",
       "      <th>3</th>\n",
       "      <td>3</td>\n",
       "      <td>39900</td>\n",
       "      <td>PLN</td>\n",
       "      <td>Used</td>\n",
       "      <td>Abarth</td>\n",
       "      <td>500</td>\n",
       "      <td>NaN</td>\n",
       "      <td>NaN</td>\n",
       "      <td>2012</td>\n",
       "      <td>29000.0</td>\n",
       "      <td>...</td>\n",
       "      <td>Manual</td>\n",
       "      <td>small_cars</td>\n",
       "      <td>3.0</td>\n",
       "      <td>gray</td>\n",
       "      <td>NaN</td>\n",
       "      <td>NaN</td>\n",
       "      <td>NaN</td>\n",
       "      <td>30/04/2021</td>\n",
       "      <td>Jaworzno, Śląskie</td>\n",
       "      <td>['ABS', 'Electric front windows', 'Drivers air...</td>\n",
       "    </tr>\n",
       "    <tr>\n",
       "      <th>4</th>\n",
       "      <td>4</td>\n",
       "      <td>97900</td>\n",
       "      <td>PLN</td>\n",
       "      <td>New</td>\n",
       "      <td>Abarth</td>\n",
       "      <td>595</td>\n",
       "      <td>NaN</td>\n",
       "      <td>NaN</td>\n",
       "      <td>2021</td>\n",
       "      <td>600.0</td>\n",
       "      <td>...</td>\n",
       "      <td>Manual</td>\n",
       "      <td>small_cars</td>\n",
       "      <td>3.0</td>\n",
       "      <td>blue</td>\n",
       "      <td>NaN</td>\n",
       "      <td>NaN</td>\n",
       "      <td>NaN</td>\n",
       "      <td>30/04/2021</td>\n",
       "      <td>ul. Gorzysława 9 - 61-057 Poznań, Nowe Miasto ...</td>\n",
       "      <td>['ABS', 'Electrically adjustable mirrors', 'Pa...</td>\n",
       "    </tr>\n",
       "  </tbody>\n",
       "</table>\n",
       "<p>5 rows × 25 columns</p>\n",
       "</div>"
      ],
      "text/plain": [
       "   Index  Price Currency Condition Vehicle_brand Vehicle_model  \\\n",
       "0      0  86200      PLN       New        Abarth           595   \n",
       "1      1  43500      PLN      Used        Abarth         Other   \n",
       "2      2  44900      PLN      Used        Abarth           500   \n",
       "3      3  39900      PLN      Used        Abarth           500   \n",
       "4      4  97900      PLN       New        Abarth           595   \n",
       "\n",
       "  Vehicle_version Vehicle_generation  Production_year  Mileage_km  ...  \\\n",
       "0             NaN                NaN             2021         1.0  ...   \n",
       "1             NaN                NaN             1974     59000.0  ...   \n",
       "2             NaN                NaN             2018     52000.0  ...   \n",
       "3             NaN                NaN             2012     29000.0  ...   \n",
       "4             NaN                NaN             2021       600.0  ...   \n",
       "\n",
       "   Transmission        Type Doors_number  Colour Origin_country First_owner  \\\n",
       "0        Manual  small_cars          3.0    gray            NaN         NaN   \n",
       "1        Manual       coupe          2.0  silver            NaN         NaN   \n",
       "2     Automatic  small_cars          3.0  silver            NaN         NaN   \n",
       "3        Manual  small_cars          3.0    gray            NaN         NaN   \n",
       "4        Manual  small_cars          3.0    blue            NaN         NaN   \n",
       "\n",
       "  First_registration_date  Offer_publication_date  \\\n",
       "0                     NaN              04/05/2021   \n",
       "1                     NaN              03/05/2021   \n",
       "2                     NaN              03/05/2021   \n",
       "3                     NaN              30/04/2021   \n",
       "4                     NaN              30/04/2021   \n",
       "\n",
       "                                      Offer_location  \\\n",
       "0  ul. Jubilerska 6 - 04-190 Warszawa, Mazowiecki...   \n",
       "1  kanonierska12 - 04-425 Warszawa, Rembertów (Po...   \n",
       "2                   Warszawa, Mazowieckie, Białołęka   \n",
       "3                                  Jaworzno, Śląskie   \n",
       "4  ul. Gorzysława 9 - 61-057 Poznań, Nowe Miasto ...   \n",
       "\n",
       "                                            Features  \n",
       "0                                                 []  \n",
       "1                                                 []  \n",
       "2  ['ABS', 'Electric front windows', 'Drivers air...  \n",
       "3  ['ABS', 'Electric front windows', 'Drivers air...  \n",
       "4  ['ABS', 'Electrically adjustable mirrors', 'Pa...  \n",
       "\n",
       "[5 rows x 25 columns]"
      ]
     },
     "execution_count": 5,
     "metadata": {},
     "output_type": "execute_result"
    }
   ],
   "source": [
    "data.head()"
   ]
  },
  {
   "cell_type": "markdown",
   "id": "bd26da83",
   "metadata": {},
   "source": [
    "there are 25 features. as mentioned before:\n",
    "ID - unique ID of offer\n",
    "Price - value of the price\n",
    "Currency - currency of the price (mostly polish złoty, but also some euro)\n",
    "Condition - new or used\n",
    "Vehicle_brand - brand of vehicle in offer\n",
    "Vehicle_model - model of vehicle in offer\n",
    "Vehicle_generation - generation of vehicle in offer\n",
    "Vehicle_version - version of vehicle in offer\n",
    "Production_year - year of car production\n",
    "Mileage_km - total distance that the car has driven in kilometers\n",
    "Power_HP - car engine power in horsepower\n",
    "Displacement_cm3 - car engine size in cubic centimeters\n",
    "Fuel_type - car fuel type\n",
    "CO2_emissions - car CO2 emissions in g/km\n",
    "Drive - type of car drive\n",
    "Transmission - type of car transmission\n",
    "Type - car body style\n",
    "Doors_number - number of car doors\n",
    "Colour - car body color\n",
    "Origin_country - country of origin of the car\n",
    "First_owner - whether the owner is the first owner\n",
    "First_registration_date - date of first registration\n",
    "Offer_publication_date - date of publication of the offer\n",
    "Offer_location - address provided by the issuer\n",
    "Features - listed car features (ABS, airbag, parking sensors e.t.c)"
   ]
  },
  {
   "cell_type": "markdown",
   "id": "02b23448",
   "metadata": {},
   "source": [
    "## data types"
   ]
  },
  {
   "cell_type": "code",
   "execution_count": 6,
   "id": "03d25fe9",
   "metadata": {},
   "outputs": [
    {
     "name": "stdout",
     "output_type": "stream",
     "text": [
      "<class 'pandas.core.frame.DataFrame'>\n",
      "RangeIndex: 208304 entries, 0 to 208303\n",
      "Data columns (total 25 columns):\n",
      " #   Column                   Non-Null Count   Dtype  \n",
      "---  ------                   --------------   -----  \n",
      " 0   Index                    208304 non-null  int64  \n",
      " 1   Price                    208304 non-null  int64  \n",
      " 2   Currency                 208304 non-null  object \n",
      " 3   Condition                208304 non-null  object \n",
      " 4   Vehicle_brand            208304 non-null  object \n",
      " 5   Vehicle_model            208304 non-null  object \n",
      " 6   Vehicle_version          138082 non-null  object \n",
      " 7   Vehicle_generation       147860 non-null  object \n",
      " 8   Production_year          208304 non-null  int64  \n",
      " 9   Mileage_km               207321 non-null  float64\n",
      " 10  Power_HP                 207661 non-null  float64\n",
      " 11  Displacement_cm3         206338 non-null  float64\n",
      " 12  Fuel_type                208304 non-null  object \n",
      " 13  CO2_emissions            94047 non-null   float64\n",
      " 14  Drive                    193228 non-null  object \n",
      " 15  Transmission             207825 non-null  object \n",
      " 16  Type                     208304 non-null  object \n",
      " 17  Doors_number             206817 non-null  float64\n",
      " 18  Colour                   208304 non-null  object \n",
      " 19  Origin_country           118312 non-null  object \n",
      " 20  First_owner              65094 non-null   object \n",
      " 21  First_registration_date  86445 non-null   object \n",
      " 22  Offer_publication_date   208304 non-null  object \n",
      " 23  Offer_location           208304 non-null  object \n",
      " 24  Features                 208304 non-null  object \n",
      "dtypes: float64(5), int64(3), object(17)\n",
      "memory usage: 39.7+ MB\n"
     ]
    }
   ],
   "source": [
    "data.info();"
   ]
  },
  {
   "cell_type": "markdown",
   "id": "19002715",
   "metadata": {},
   "source": [
    "As we can see we've got no empty (null) rows.Technically this wouldn't be a null field but in the context of our data it would definitely have the same meaning of Null."
   ]
  },
  {
   "cell_type": "markdown",
   "id": "8810282c",
   "metadata": {},
   "source": [
    "## null values"
   ]
  },
  {
   "cell_type": "code",
   "execution_count": 7,
   "id": "66fafc62",
   "metadata": {},
   "outputs": [
    {
     "data": {
      "text/plain": [
       "Index                           0\n",
       "Price                           0\n",
       "Currency                        0\n",
       "Condition                       0\n",
       "Vehicle_brand                   0\n",
       "Vehicle_model                   0\n",
       "Vehicle_version             70222\n",
       "Vehicle_generation          60444\n",
       "Production_year                 0\n",
       "Mileage_km                    983\n",
       "Power_HP                      643\n",
       "Displacement_cm3             1966\n",
       "Fuel_type                       0\n",
       "CO2_emissions              114257\n",
       "Drive                       15076\n",
       "Transmission                  479\n",
       "Type                            0\n",
       "Doors_number                 1487\n",
       "Colour                          0\n",
       "Origin_country              89992\n",
       "First_owner                143210\n",
       "First_registration_date    121859\n",
       "Offer_publication_date          0\n",
       "Offer_location                  0\n",
       "Features                        0\n",
       "dtype: int64"
      ]
     },
     "execution_count": 7,
     "metadata": {},
     "output_type": "execute_result"
    }
   ],
   "source": [
    "data.isna().sum()"
   ]
  },
  {
   "cell_type": "markdown",
   "id": "3f98c1d5",
   "metadata": {},
   "source": [
    "there are a lot of missing values but they're going to be taken care of soon."
   ]
  },
  {
   "cell_type": "markdown",
   "id": "0b0beeda",
   "metadata": {},
   "source": [
    "## cntral tendencies of numerical columns"
   ]
  },
  {
   "cell_type": "code",
   "execution_count": 8,
   "id": "9086e1e5",
   "metadata": {},
   "outputs": [
    {
     "data": {
      "text/html": [
       "<div>\n",
       "<style scoped>\n",
       "    .dataframe tbody tr th:only-of-type {\n",
       "        vertical-align: middle;\n",
       "    }\n",
       "\n",
       "    .dataframe tbody tr th {\n",
       "        vertical-align: top;\n",
       "    }\n",
       "\n",
       "    .dataframe thead th {\n",
       "        text-align: right;\n",
       "    }\n",
       "</style>\n",
       "<table border=\"1\" class=\"dataframe\">\n",
       "  <thead>\n",
       "    <tr style=\"text-align: right;\">\n",
       "      <th></th>\n",
       "      <th>Index</th>\n",
       "      <th>Price</th>\n",
       "      <th>Production_year</th>\n",
       "      <th>Mileage_km</th>\n",
       "      <th>Power_HP</th>\n",
       "      <th>Displacement_cm3</th>\n",
       "      <th>CO2_emissions</th>\n",
       "      <th>Doors_number</th>\n",
       "    </tr>\n",
       "  </thead>\n",
       "  <tbody>\n",
       "    <tr>\n",
       "      <th>mean</th>\n",
       "      <td>104151.500000</td>\n",
       "      <td>6.305383e+04</td>\n",
       "      <td>2012.098241</td>\n",
       "      <td>1.502768e+05</td>\n",
       "      <td>151.836281</td>\n",
       "      <td>1882.567147</td>\n",
       "      <td>3.191564e+05</td>\n",
       "      <td>4.637138</td>\n",
       "    </tr>\n",
       "    <tr>\n",
       "      <th>std</th>\n",
       "      <td>60132.329574</td>\n",
       "      <td>8.665967e+04</td>\n",
       "      <td>6.998414</td>\n",
       "      <td>2.937447e+06</td>\n",
       "      <td>77.683546</td>\n",
       "      <td>729.609660</td>\n",
       "      <td>7.291396e+07</td>\n",
       "      <td>0.768559</td>\n",
       "    </tr>\n",
       "    <tr>\n",
       "      <th>min</th>\n",
       "      <td>0.000000</td>\n",
       "      <td>5.000000e+02</td>\n",
       "      <td>1915.000000</td>\n",
       "      <td>1.000000e+00</td>\n",
       "      <td>1.000000</td>\n",
       "      <td>400.000000</td>\n",
       "      <td>1.000000e+00</td>\n",
       "      <td>1.000000</td>\n",
       "    </tr>\n",
       "    <tr>\n",
       "      <th>25%</th>\n",
       "      <td>52075.750000</td>\n",
       "      <td>1.780000e+04</td>\n",
       "      <td>2008.000000</td>\n",
       "      <td>5.300000e+04</td>\n",
       "      <td>105.000000</td>\n",
       "      <td>1461.000000</td>\n",
       "      <td>1.200000e+02</td>\n",
       "      <td>5.000000</td>\n",
       "    </tr>\n",
       "    <tr>\n",
       "      <th>50%</th>\n",
       "      <td>104151.500000</td>\n",
       "      <td>3.570000e+04</td>\n",
       "      <td>2013.000000</td>\n",
       "      <td>1.445660e+05</td>\n",
       "      <td>136.000000</td>\n",
       "      <td>1798.000000</td>\n",
       "      <td>1.400000e+02</td>\n",
       "      <td>5.000000</td>\n",
       "    </tr>\n",
       "    <tr>\n",
       "      <th>75%</th>\n",
       "      <td>156227.250000</td>\n",
       "      <td>7.599000e+04</td>\n",
       "      <td>2017.000000</td>\n",
       "      <td>2.060000e+05</td>\n",
       "      <td>172.000000</td>\n",
       "      <td>1997.000000</td>\n",
       "      <td>1.640000e+02</td>\n",
       "      <td>5.000000</td>\n",
       "    </tr>\n",
       "    <tr>\n",
       "      <th>max</th>\n",
       "      <td>208303.000000</td>\n",
       "      <td>6.999000e+06</td>\n",
       "      <td>2021.000000</td>\n",
       "      <td>1.111111e+09</td>\n",
       "      <td>1398.000000</td>\n",
       "      <td>8400.000000</td>\n",
       "      <td>2.000000e+10</td>\n",
       "      <td>55.000000</td>\n",
       "    </tr>\n",
       "  </tbody>\n",
       "</table>\n",
       "</div>"
      ],
      "text/plain": [
       "              Index         Price  Production_year    Mileage_km     Power_HP  \\\n",
       "mean  104151.500000  6.305383e+04      2012.098241  1.502768e+05   151.836281   \n",
       "std    60132.329574  8.665967e+04         6.998414  2.937447e+06    77.683546   \n",
       "min        0.000000  5.000000e+02      1915.000000  1.000000e+00     1.000000   \n",
       "25%    52075.750000  1.780000e+04      2008.000000  5.300000e+04   105.000000   \n",
       "50%   104151.500000  3.570000e+04      2013.000000  1.445660e+05   136.000000   \n",
       "75%   156227.250000  7.599000e+04      2017.000000  2.060000e+05   172.000000   \n",
       "max   208303.000000  6.999000e+06      2021.000000  1.111111e+09  1398.000000   \n",
       "\n",
       "      Displacement_cm3  CO2_emissions  Doors_number  \n",
       "mean       1882.567147   3.191564e+05      4.637138  \n",
       "std         729.609660   7.291396e+07      0.768559  \n",
       "min         400.000000   1.000000e+00      1.000000  \n",
       "25%        1461.000000   1.200000e+02      5.000000  \n",
       "50%        1798.000000   1.400000e+02      5.000000  \n",
       "75%        1997.000000   1.640000e+02      5.000000  \n",
       "max        8400.000000   2.000000e+10     55.000000  "
      ]
     },
     "execution_count": 8,
     "metadata": {},
     "output_type": "execute_result"
    }
   ],
   "source": [
    "data.describe().drop(['count'], axis=0)"
   ]
  },
  {
   "cell_type": "markdown",
   "id": "a2f6b392",
   "metadata": {},
   "source": [
    "# data cleaning"
   ]
  },
  {
   "cell_type": "code",
   "execution_count": 9,
   "id": "16b1bb69",
   "metadata": {},
   "outputs": [
    {
     "data": {
      "text/plain": [
       "Index                        int64\n",
       "Price                        int64\n",
       "Currency                    object\n",
       "Condition                   object\n",
       "Vehicle_brand               object\n",
       "Vehicle_model               object\n",
       "Vehicle_version             object\n",
       "Vehicle_generation          object\n",
       "Production_year              int64\n",
       "Mileage_km                 float64\n",
       "Power_HP                   float64\n",
       "Displacement_cm3           float64\n",
       "Fuel_type                   object\n",
       "CO2_emissions              float64\n",
       "Drive                       object\n",
       "Transmission                object\n",
       "Type                        object\n",
       "Doors_number               float64\n",
       "Colour                      object\n",
       "Origin_country              object\n",
       "First_owner                 object\n",
       "First_registration_date     object\n",
       "Offer_publication_date      object\n",
       "Offer_location              object\n",
       "Features                    object\n",
       "dtype: object"
      ]
     },
     "execution_count": 9,
     "metadata": {},
     "output_type": "execute_result"
    }
   ],
   "source": [
    "#ckecking for any format difficulties\n",
    "data.dtypes"
   ]
  },
  {
   "cell_type": "markdown",
   "id": "e185bc11",
   "metadata": {},
   "source": [
    "we should take care of time because they all are in \"object\"."
   ]
  },
  {
   "cell_type": "markdown",
   "id": "b5833e9f",
   "metadata": {},
   "source": [
    "## changing dtypes to time "
   ]
  },
  {
   "cell_type": "code",
   "execution_count": 10,
   "id": "cafda79d",
   "metadata": {},
   "outputs": [],
   "source": [
    "data['Offer_publication_date'] = pd.to_datetime(data['Offer_publication_date'], infer_datetime_format=True, errors='coerce')\n",
    "data['First_registration_date'] = pd.to_datetime(data['First_registration_date'], infer_datetime_format=True,errors='coerce')"
   ]
  },
  {
   "cell_type": "code",
   "execution_count": 11,
   "id": "d748edc8",
   "metadata": {},
   "outputs": [
    {
     "name": "stdout",
     "output_type": "stream",
     "text": [
      "datetime64[ns]\n",
      "datetime64[ns]\n"
     ]
    },
    {
     "data": {
      "text/plain": [
       "0         4.0\n",
       "1         3.0\n",
       "2         3.0\n",
       "3         NaN\n",
       "4         NaN\n",
       "         ... \n",
       "208299    NaN\n",
       "208300    2.0\n",
       "208301    NaN\n",
       "208302    NaN\n",
       "208303    4.0\n",
       "Name: Offer_publication_date, Length: 208304, dtype: float64"
      ]
     },
     "execution_count": 11,
     "metadata": {},
     "output_type": "execute_result"
    }
   ],
   "source": [
    "print(data['First_registration_date'].dtype)\n",
    "print(data['Offer_publication_date'].dtype)\n",
    "data['Offer_publication_date'].dt.month"
   ]
  },
  {
   "cell_type": "markdown",
   "id": "fbfcecea",
   "metadata": {},
   "source": [
    "we have taken care of numerical and date ypes. let's take a look at the 'object' type features."
   ]
  },
  {
   "cell_type": "code",
   "execution_count": 12,
   "id": "0cfb3e0e",
   "metadata": {},
   "outputs": [
    {
     "data": {
      "text/plain": [
       "Currency              object\n",
       "Condition             object\n",
       "Vehicle_brand         object\n",
       "Vehicle_model         object\n",
       "Vehicle_version       object\n",
       "Vehicle_generation    object\n",
       "Fuel_type             object\n",
       "Drive                 object\n",
       "Transmission          object\n",
       "Type                  object\n",
       "Colour                object\n",
       "Origin_country        object\n",
       "First_owner           object\n",
       "Offer_location        object\n",
       "Features              object\n",
       "dtype: object"
      ]
     },
     "execution_count": 12,
     "metadata": {},
     "output_type": "execute_result"
    }
   ],
   "source": [
    "data.dtypes[(data.dtypes == 'object')]"
   ]
  },
  {
   "cell_type": "code",
   "execution_count": 13,
   "id": "3d44b974",
   "metadata": {},
   "outputs": [
    {
     "data": {
      "text/plain": [
       "PLN    208034\n",
       "EUR       270\n",
       "Name: Currency, dtype: int64"
      ]
     },
     "execution_count": 13,
     "metadata": {},
     "output_type": "execute_result"
    }
   ],
   "source": [
    "data['Currency'].value_counts()"
   ]
  },
  {
   "cell_type": "markdown",
   "id": "32bdcf83",
   "metadata": {},
   "source": [
    "As we can see we've got 2 types of currencies here, the Euro and the polish zloty, because we only have a few EUR values in comparision to PlN. but since the extention rate differs frome time to time. we need to understand the time the dealership has been done!"
   ]
  },
  {
   "cell_type": "code",
   "execution_count": 14,
   "id": "40c3f2d1",
   "metadata": {},
   "outputs": [
    {
     "data": {
      "text/plain": [
       "2021.0    103356\n",
       "Name: Offer_publication_date, dtype: int64"
      ]
     },
     "execution_count": 14,
     "metadata": {},
     "output_type": "execute_result"
    }
   ],
   "source": [
    "data['Offer_publication_date'].dt.year.value_counts()\n"
   ]
  },
  {
   "cell_type": "markdown",
   "id": "1c75e83e",
   "metadata": {},
   "source": [
    "so since all the dealership has been done in 2021. we are going to be using the 2021 EUR-PLN exchange rate."
   ]
  },
  {
   "cell_type": "code",
   "execution_count": 15,
   "id": "3cc4130b",
   "metadata": {},
   "outputs": [],
   "source": [
    "EXCHANGE_RATE_EUR_PLN_2021 = 4.7033\n",
    "data[(data['Currency'] == 'EUR')]['Price'] = data[(data['Currency'] == 'EUR')]['Price'] * EXCHANGE_RATE_EUR_PLN_2021"
   ]
  },
  {
   "cell_type": "code",
   "execution_count": 16,
   "id": "1d3a70d4",
   "metadata": {},
   "outputs": [
    {
     "data": {
      "text/plain": [
       "PLN    208304\n",
       "Name: Currency, dtype: int64"
      ]
     },
     "execution_count": 16,
     "metadata": {},
     "output_type": "execute_result"
    }
   ],
   "source": [
    "data['Currency'] = 'PLN'\n",
    "data['Currency'].value_counts()"
   ]
  },
  {
   "cell_type": "markdown",
   "id": "fec4d5bd",
   "metadata": {},
   "source": [
    "as shown above, we only have one type of currency now."
   ]
  },
  {
   "cell_type": "code",
   "execution_count": 17,
   "id": "31a5b5e0",
   "metadata": {},
   "outputs": [
    {
     "data": {
      "text/plain": [
       "Volkswagen    18455\n",
       "BMW           16983\n",
       "Audi          16730\n",
       "Opel          16322\n",
       "Ford          16007\n",
       "              ...  \n",
       "FAW               1\n",
       "MAN               1\n",
       "Talbot            1\n",
       "NSU               1\n",
       "Vanderhall        1\n",
       "Name: Vehicle_brand, Length: 108, dtype: int64"
      ]
     },
     "execution_count": 17,
     "metadata": {},
     "output_type": "execute_result"
    }
   ],
   "source": [
    "data['Vehicle_brand'].value_counts()"
   ]
  },
  {
   "cell_type": "code",
   "execution_count": 18,
   "id": "ad190cf8",
   "metadata": {},
   "outputs": [
    {
     "data": {
      "text/plain": [
       "Astra      5302\n",
       "A4         4582\n",
       "Seria 3    4570\n",
       "Golf       4164\n",
       "Passat     4049\n",
       "           ... \n",
       "Roma          1\n",
       "HQ            1\n",
       "Alaskan       1\n",
       "10            1\n",
       "750           1\n",
       "Name: Vehicle_model, Length: 1203, dtype: int64"
      ]
     },
     "execution_count": 18,
     "metadata": {},
     "output_type": "execute_result"
    }
   ],
   "source": [
    "data['Vehicle_model'].value_counts()"
   ]
  },
  {
   "cell_type": "code",
   "execution_count": 19,
   "id": "83593668",
   "metadata": {},
   "outputs": [
    {
     "data": {
      "text/plain": [
       "Used    182850\n",
       "New      25454\n",
       "Name: Condition, dtype: int64"
      ]
     },
     "execution_count": 19,
     "metadata": {},
     "output_type": "execute_result"
    }
   ],
   "source": [
    "data['Condition'].value_counts()"
   ]
  },
  {
   "cell_type": "code",
   "execution_count": 20,
   "id": "567e9086",
   "metadata": {},
   "outputs": [
    {
     "data": {
      "text/plain": [
       "2.0 TDI                             888\n",
       "1.6                                 842\n",
       "Standard                            647\n",
       "2.0 TDCi Titanium                   619\n",
       "1.2                                 604\n",
       "                                   ... \n",
       "Coupe 350 d 4-Matic Premium Plus      1\n",
       "250 T CDI DPF 4Matic 7G-TRONIC        1\n",
       "350 BlueTEC DPF 7G-TRONIC             1\n",
       "65 AMG L AMG SPEEDSHIFT               1\n",
       "Tourist 1.0 S                         1\n",
       "Name: Vehicle_version, Length: 19056, dtype: int64"
      ]
     },
     "execution_count": 20,
     "metadata": {},
     "output_type": "execute_result"
    }
   ],
   "source": [
    "data['Vehicle_version'].value_counts()"
   ]
  },
  {
   "cell_type": "code",
   "execution_count": 21,
   "id": "d13e71b3",
   "metadata": {},
   "outputs": [
    {
     "data": {
      "text/plain": [
       "II (2012-)         3758\n",
       "II (2010-)         2280\n",
       "III (2013-)        2205\n",
       "II (2016-)         2024\n",
       "A (2008-2017)      1945\n",
       "                   ... \n",
       "II (1995-1999)        1\n",
       "II (1995-2001)        1\n",
       "II (1998-2001)        1\n",
       "I (1993-1998)         1\n",
       "Mk3 (1989-1996)       1\n",
       "Name: Vehicle_generation, Length: 569, dtype: int64"
      ]
     },
     "execution_count": 21,
     "metadata": {},
     "output_type": "execute_result"
    }
   ],
   "source": [
    "data['Vehicle_generation'].value_counts()\n"
   ]
  },
  {
   "cell_type": "code",
   "execution_count": 22,
   "id": "78580e7a",
   "metadata": {},
   "outputs": [
    {
     "data": {
      "text/plain": [
       "Gasoline          99352\n",
       "Diesel            92415\n",
       "Gasoline + LPG     9027\n",
       "Hybrid             5883\n",
       "Electric           1553\n",
       "Gasoline + CNG       70\n",
       "Hydrogen              2\n",
       "Ethanol               2\n",
       "Name: Fuel_type, dtype: int64"
      ]
     },
     "execution_count": 22,
     "metadata": {},
     "output_type": "execute_result"
    }
   ],
   "source": [
    "data['Fuel_type'].value_counts()"
   ]
  },
  {
   "cell_type": "code",
   "execution_count": 23,
   "id": "e94ad861",
   "metadata": {},
   "outputs": [
    {
     "data": {
      "text/plain": [
       "Front wheels                    139944\n",
       "Rear wheels                      18081\n",
       "4x4 (permanent)                  16986\n",
       "4x4 (attached automatically)     15420\n",
       "4x4 (attached manually)           2797\n",
       "Name: Drive, dtype: int64"
      ]
     },
     "execution_count": 23,
     "metadata": {},
     "output_type": "execute_result"
    }
   ],
   "source": [
    "data['Drive'].value_counts()\n"
   ]
  },
  {
   "cell_type": "code",
   "execution_count": 24,
   "id": "e9c376b5",
   "metadata": {},
   "outputs": [
    {
     "data": {
      "text/plain": [
       "Manual       132889\n",
       "Automatic     74936\n",
       "Name: Transmission, dtype: int64"
      ]
     },
     "execution_count": 24,
     "metadata": {},
     "output_type": "execute_result"
    }
   ],
   "source": [
    "data['Transmission'].value_counts()"
   ]
  },
  {
   "cell_type": "code",
   "execution_count": 25,
   "id": "bd6b14bb",
   "metadata": {},
   "outputs": [
    {
     "data": {
      "text/plain": [
       "SUV              41587\n",
       "station_wagon    40228\n",
       "sedan            33271\n",
       "compact          32150\n",
       "city_cars        24110\n",
       "minivan          22114\n",
       "coupe             6374\n",
       "small_cars        5974\n",
       "convertible       2496\n",
       "Name: Type, dtype: int64"
      ]
     },
     "execution_count": 25,
     "metadata": {},
     "output_type": "execute_result"
    }
   ],
   "source": [
    "data['Type'].value_counts()"
   ]
  },
  {
   "cell_type": "code",
   "execution_count": 26,
   "id": "6617afcb",
   "metadata": {},
   "outputs": [
    {
     "data": {
      "text/plain": [
       "black       50355\n",
       "gray        31826\n",
       "silver      30886\n",
       "white       30412\n",
       "blue        21707\n",
       "other       13805\n",
       "red          9799\n",
       "brown        5547\n",
       "green        3633\n",
       "burgundy     3442\n",
       "golden       2677\n",
       "beige        2488\n",
       "yellow        961\n",
       "violet        766\n",
       "Name: Colour, dtype: int64"
      ]
     },
     "execution_count": 26,
     "metadata": {},
     "output_type": "execute_result"
    }
   ],
   "source": [
    "data['Colour'].value_counts()"
   ]
  },
  {
   "cell_type": "code",
   "execution_count": 27,
   "id": "14fb6da6",
   "metadata": {},
   "outputs": [
    {
     "data": {
      "text/plain": [
       "Poland            57127\n",
       "Germany           38166\n",
       "France             4874\n",
       "United States      4099\n",
       "Belgium            4055\n",
       "Switzerland        2152\n",
       "Netherlands        1796\n",
       "Italy              1385\n",
       "Austria            1218\n",
       "Sweden              733\n",
       "Denmark             661\n",
       "Canada              596\n",
       "Other               378\n",
       "Czech Republic      259\n",
       "Great Britain       219\n",
       "Luxembourg          210\n",
       "Spain               128\n",
       "Finland              62\n",
       "Slovakia             48\n",
       "Norway               46\n",
       "Slovenia             22\n",
       "Russia               18\n",
       "Estonia               9\n",
       "Ireland               8\n",
       "Greece                7\n",
       "Ukraine               6\n",
       "Hungary               5\n",
       "Lithuania             5\n",
       "Monaco                4\n",
       "Belarus               3\n",
       "Romania               3\n",
       "Croatia               2\n",
       "Turkey                2\n",
       "Iceland               2\n",
       "Latvia                2\n",
       "Bulgaria              1\n",
       "Liechtenstein         1\n",
       "Name: Origin_country, dtype: int64"
      ]
     },
     "execution_count": 27,
     "metadata": {},
     "output_type": "execute_result"
    }
   ],
   "source": [
    "data['Origin_country'].value_counts()"
   ]
  },
  {
   "cell_type": "markdown",
   "id": "28b971b1",
   "metadata": {},
   "source": [
    "unlike 'curency' other features does not need any reforming in their format."
   ]
  },
  {
   "cell_type": "code",
   "execution_count": 28,
   "id": "b92a90f7",
   "metadata": {},
   "outputs": [
    {
     "data": {
      "text/plain": [
       "Yes    65094\n",
       "Name: First_owner, dtype: int64"
      ]
     },
     "execution_count": 28,
     "metadata": {},
     "output_type": "execute_result"
    }
   ],
   "source": [
    "data['First_owner'].value_counts()"
   ]
  },
  {
   "cell_type": "markdown",
   "id": "87b80052",
   "metadata": {},
   "source": [
    "as shown here we have a yes/no answer but a lot of our values are 'null' so we're going to take care of them soon."
   ]
  },
  {
   "cell_type": "code",
   "execution_count": 29,
   "id": "d6b6bf4a",
   "metadata": {},
   "outputs": [
    {
     "data": {
      "text/plain": [
       "Stalowa 16 - 41-506 Chorzów, Śląskie (Polska)    1329\n",
       "Radom, Mazowieckie                               1207\n",
       "Kielce, Świętokrzyskie                           1112\n",
       "Lublin, Lubelskie                                1082\n",
       "Bydgoszcz, Kujawsko-pomorskie                     902\n",
       "                                                 ... \n",
       "Stawno, kamieński, Zachodniopomorskie               1\n",
       "Przydwórz, wąbrzeski, Kujawsko-pomorskie            1\n",
       "Stary Lubotyń, ostrowski, Mazowieckie               1\n",
       "Korbielów, żywiecki, Śląskie                        1\n",
       "Chęciny, garwoliński, Mazowieckie                   1\n",
       "Name: Offer_location, Length: 13635, dtype: int64"
      ]
     },
     "execution_count": 29,
     "metadata": {},
     "output_type": "execute_result"
    }
   ],
   "source": [
    "data['Offer_location'].value_counts()"
   ]
  },
  {
   "cell_type": "code",
   "execution_count": null,
   "id": "a857fe8a",
   "metadata": {},
   "outputs": [],
   "source": []
  }
 ],
 "metadata": {
  "kernelspec": {
   "display_name": "Python 3 (ipykernel)",
   "language": "python",
   "name": "python3"
  },
  "language_info": {
   "codemirror_mode": {
    "name": "ipython",
    "version": 3
   },
   "file_extension": ".py",
   "mimetype": "text/x-python",
   "name": "python",
   "nbconvert_exporter": "python",
   "pygments_lexer": "ipython3",
   "version": "3.9.12"
  }
 },
 "nbformat": 4,
 "nbformat_minor": 5
}
