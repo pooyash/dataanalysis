{
 "cells": [
  {
   "cell_type": "code",
   "execution_count": 13,
   "id": "d96fcf72",
   "metadata": {},
   "outputs": [],
   "source": [
    "import pandas as pd\n",
    "import pickle\n",
    "import re\n",
    "\n",
    "def load_pkl(name):\n",
    "    with open(name + '.pkl', 'rb') as f:\n",
    "        return pickle.load(f)\n",
    "\n",
    "\n",
    "def translate_car_features(features_string):\n",
    "    car_features_translation = load_pkl(\"./translation_files/car_features_translation\")\n",
    "    features = re.findall(r\"\\'(.*?)\\'\", features_string)\n",
    "\n",
    "    translated_features = list()\n",
    "    for feature in features:\n",
    "        if feature:\n",
    "            translation = car_features_translation[feature]\n",
    "            translated_features.append(translation)\n",
    "\n",
    "    return translated_features\n",
    "\n",
    "\n",
    "def translate_pol_eng(dataframe):\n",
    "    \"\"\"\n",
    "    \"\"\"\n",
    "    key_translation = load_pkl(\"./translation_files/key_translation\")\n",
    "    colour_translation = load_pkl(\"./translation_files/colour_translation\")\n",
    "    condition_translation = load_pkl(\"./translation_files/condition_translation\")\n",
    "    drive_translation = load_pkl(\"./translation_files/drive_translation\")\n",
    "    fuel_type_translation = load_pkl(\"./translation_files/fuel_type_translation\")\n",
    "    transmission_translation = load_pkl(\"./translation_files/transmission_translation\")\n",
    "    type_translation = load_pkl(\"./translation_files/type_translation\")\n",
    "    origin_country_translation = load_pkl(\"./translation_files/origin_country_translation\")\n",
    "\n",
    "    dataframe.rename(mapper=key_translation, axis=1, inplace=True)\n",
    "    dataframe.Colour.replace(colour_translation, inplace=True)\n",
    "    dataframe.Condition.replace(condition_translation, inplace=True)\n",
    "    dataframe.Drive.replace(drive_translation, inplace=True)\n",
    "    dataframe.Fuel_type.replace(fuel_type_translation, inplace=True)\n",
    "    dataframe.Vehicle_model.replace({\"Inny\":\"Other\"}, inplace=True)\n",
    "    dataframe.Vehicle_version.replace({\"Inny\":\"Other\"}, inplace=True)\n",
    "    dataframe.First_owner.replace({\"Tak\":\"Yes\"}, inplace=True)\n",
    "    dataframe.Transmission.replace(transmission_translation, inplace=True)\n",
    "    dataframe.Type.replace(type_translation, inplace=True)\n",
    "    \n",
    "    dataframe.Origin_country.replace(origin_country_translation, inplace=True)\n",
    "    dataframe.Features = dataframe.Features.apply(translate_car_features)\n",
    "    return dataframe"
   ]
  },
  {
   "cell_type": "code",
   "execution_count": null,
   "id": "08229bb2",
   "metadata": {},
   "outputs": [],
   "source": []
  }
 ],
 "metadata": {
  "kernelspec": {
   "display_name": "Python 3 (ipykernel)",
   "language": "python",
   "name": "python3"
  },
  "language_info": {
   "codemirror_mode": {
    "name": "ipython",
    "version": 3
   },
   "file_extension": ".py",
   "mimetype": "text/x-python",
   "name": "python",
   "nbconvert_exporter": "python",
   "pygments_lexer": "ipython3",
   "version": "3.9.12"
  }
 },
 "nbformat": 4,
 "nbformat_minor": 5
}
