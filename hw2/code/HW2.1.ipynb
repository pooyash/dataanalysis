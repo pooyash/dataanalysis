{
 "cells": [
  {
   "cell_type": "markdown",
   "metadata": {},
   "source": [
    "<div style=\"display:block\" direction=rtl align=right><br><br>\n",
    "    <div  style=\"width:100%;margin:100;display:block\"  display=block align=center>\n",
    "        <img width=130 align=right src=\"https://i.ibb.co/yXKQmtZ/logo1.png\" style=\"margin:0;\" />\n",
    "        <img width=170 align=left  src=\"https://i.ibb.co/wLjqFkw/logo2.png\" style=\"margin:0;\" />\n",
    "        <span><br><font size=5>University of Tehran , school of ECE</font></span>\n",
    "        <span><br><font size=3>Data Analytics Course</font></span>\n",
    "        <span><br><font size=3>Fall 2022</font></span>\n",
    "    </div><br><br><br>\n",
    "    <div style=\"display:block\" align=left display=block> \n",
    "        <font size=3>Homework 2</font><br>\n",
    "        <hr />\n",
    "        <font size=3>TA: <a href=\"mailto:mersad.esalati@gmail.com\">Mersad Esalati</a><br></font><br>\n",
    "    </div>\n",
    "</div>"
   ]
  },
  {
   "cell_type": "markdown",
   "metadata": {},
   "source": [
    "# Beatifulsoup"
   ]
  },
  {
   "cell_type": "markdown",
   "metadata": {},
   "source": [
    "## News Crawler\n",
    "News Information:\n",
    "- Title\n",
    "- Description\n",
    "- datetime\n",
    "- Category\n",
    "- Agency"
   ]
  },
  {
   "cell_type": "code",
   "execution_count": 45,
   "metadata": {},
   "outputs": [],
   "source": [
    "# parse news list page\n",
    "import numpy as np\n",
    "import pandas as pd\n",
    "import matplotlib.pyplot as plt\n",
    "import requests\n",
    "from bs4 import BeautifulSoup"
   ]
  },
  {
   "cell_type": "markdown",
   "metadata": {},
   "source": [
    "### Currency News Crawler"
   ]
  },
  {
   "cell_type": "code",
   "execution_count": 97,
   "metadata": {},
   "outputs": [
    {
     "name": "stderr",
     "output_type": "stream",
     "text": [
      "C:\\Users\\AU\\anaconda3\\lib\\site-packages\\numpy\\core\\fromnumeric.py:1970: VisibleDeprecationWarning: Creating an ndarray from ragged nested sequences (which is a list-or-tuple of lists-or-tuples-or ndarrays with different lengths or shapes) is deprecated. If you meant to do this, you must specify 'dtype=object' when creating the ndarray.\n",
      "  result = asarray(a).shape\n"
     ]
    }
   ],
   "source": [
    "# crawl data + save into csv file\n",
    "# for 20 pages\n",
    "final_currency=[]\n",
    "for i in range(30):\n",
    "    url_currency ='https://www.tgju.org/news/category/93965/%D8%A7%D8%AE%D8%A8%D8%A7%D8%B1-%D8%A7%D8%B1%D8%B2%DB%8C/page/{}'.format(i)\n",
    "    response_currency = requests.get(url)\n",
    "    soup_currency = BeautifulSoup(response_currency.text, 'html.parser')\n",
    "    div_currency = soup_currency.find_all(\"div\" , attrs={\"class\" : \"news-article-block\"})\n",
    "    #for iterration\n",
    "    news_num = np.shape(div_currency)[0]\n",
    "    for j in range(0,news_num):\n",
    "        raw_currency=[]\n",
    "        title_currency = soup.select('div > div.news-article-block > div.news-article-min-content > h2')\n",
    "        tit_currency=title_currency[j].text\n",
    "        tit_currency=tit_currency.replace('\\n','')\n",
    "        description_currency = soup.select('div > div.news-article-block > div.news-article-min-content > span.news-article-description')\n",
    "        desc_currency=description_currency[j].text\n",
    "        desc=desc_currency.replace('\\n','')\n",
    "        datetime_currency = soup.select('div > div.news-article-block > div.news-article-min-content > time')\n",
    "        date_currency=datetime_currency[j]['datetime']\n",
    "        category_currency = soup.select('div > div.news-article-block > div.news-article-min-content > a.outline-tag')\n",
    "        cat_currency=category_currency[j].text\n",
    "        t=div_currency[j].text\n",
    "        a=t.find(\"\\n\",7)\n",
    "        b=t.find(\"\\n\",a+1)\n",
    "        agency_currency=t[a+1:b]\n",
    "        raw_currency.append(tit_currency)\n",
    "        raw_currency.append(desc_currency)\n",
    "        raw_currency.append(date_currency)\n",
    "        raw_currency.append(cat_currency)\n",
    "        raw_currency.append(agency_currency)\n",
    "        \n",
    "        final_currency.append(raw_currency)\n",
    "df_currency = pd.DataFrame(final_currency[0:], columns=['Title','Description','datetime','Category','Agency'])\n",
    "df_currency = df_currency.replace(',','', regex=True)\n",
    "df_currency.to_csv('currency.csv' , encoding='UTF-8' , na_rep='NaN')"
   ]
  },
  {
   "cell_type": "markdown",
   "metadata": {},
   "source": [
    "### Gold News Crawler"
   ]
  },
  {
   "cell_type": "code",
   "execution_count": 98,
   "metadata": {},
   "outputs": [
    {
     "name": "stderr",
     "output_type": "stream",
     "text": [
      "C:\\Users\\AU\\anaconda3\\lib\\site-packages\\numpy\\core\\fromnumeric.py:1970: VisibleDeprecationWarning: Creating an ndarray from ragged nested sequences (which is a list-or-tuple of lists-or-tuples-or ndarrays with different lengths or shapes) is deprecated. If you meant to do this, you must specify 'dtype=object' when creating the ndarray.\n",
      "  result = asarray(a).shape\n"
     ]
    }
   ],
   "source": [
    "# crawl data + save into csv file\n",
    "final_gold=[]\n",
    "#for 20 pages\n",
    "for i in range(30):\n",
    "    \n",
    "    url_gold='https://www.tgju.org/news/category/93964/%D8%A7%D8%AE%D8%A8%D8%A7%D8%B1-%D8%B7%D9%84%D8%A7-%D9%88-%D8%B3%DA%A9%D9%87/page/{}'.format(i)\n",
    "    response_gold = requests.get(url)\n",
    "    soup_gold = BeautifulSoup(response_gold.text, 'html.parser')\n",
    "    div_gold = soup.find_all(\"div\" , attrs={\"class\" : \"news-article-block\"})\n",
    "    #for iteration\n",
    "    news_num=np.shape(div_gold)[0]\n",
    "    \n",
    "    for j in range(0,news_num):\n",
    "        raw_gold=[]\n",
    "        title_gold = soup.select('div > div.news-article-block > div.news-article-min-content > h2')\n",
    "        tit_gold=title_gold[j].text\n",
    "        tit_gold=tit_gold.replace('\\n','')\n",
    "        description_gold = soup.select('div > div.news-article-block > div.news-article-min-content > span.news-article-description')\n",
    "        desc_gold=description_gold[j].text\n",
    "        desc_gold=desc_gold.replace('\\n','')\n",
    "        datetime_gold = soup.select('div > div.news-article-block > div.news-article-min-content > time')\n",
    "        date_gold=datetime_gold[j]['datetime']\n",
    "        category_gold = soup.select('div > div.news-article-block > div.news-article-min-content > a.outline-tag')\n",
    "        cat_gold=category_gold[j].text\n",
    "        t=div_gold[j].text\n",
    "        a=t.find(\"\\n\",7)\n",
    "        b=t.find(\"\\n\",a+1)\n",
    "        agency_gold=t[a+1:b]\n",
    "        raw_gold.append(tit_gold)\n",
    "        raw_gold.append(desc_gold)\n",
    "        raw_gold.append(date_gold)\n",
    "        raw_gold.append(cat_gold)\n",
    "        raw_gold.append(agency_gold)\n",
    "        final_gold.append(raw_gold)\n",
    "df_gold = pd.DataFrame(final_gold[0:], columns=['Title','Description','datetime','Category','Agency'])\n",
    "df_gold = df_gold.replace(',','', regex=True)\n",
    "df_gold.to_csv('gold.csv' , encoding='UTF-8' , na_rep='NaN')"
   ]
  },
  {
   "cell_type": "markdown",
   "metadata": {},
   "source": [
    "## Question 1: Top Agency"
   ]
  },
  {
   "cell_type": "code",
   "execution_count": 121,
   "metadata": {},
   "outputs": [
    {
     "data": {
      "text/html": [
       "<div>\n",
       "<style scoped>\n",
       "    .dataframe tbody tr th:only-of-type {\n",
       "        vertical-align: middle;\n",
       "    }\n",
       "\n",
       "    .dataframe tbody tr th {\n",
       "        vertical-align: top;\n",
       "    }\n",
       "\n",
       "    .dataframe thead th {\n",
       "        text-align: right;\n",
       "    }\n",
       "</style>\n",
       "<table border=\"1\" class=\"dataframe\">\n",
       "  <thead>\n",
       "    <tr style=\"text-align: right;\">\n",
       "      <th></th>\n",
       "      <th>Title</th>\n",
       "      <th>Description</th>\n",
       "      <th>datetime</th>\n",
       "      <th>Category</th>\n",
       "    </tr>\n",
       "    <tr>\n",
       "      <th>Agency</th>\n",
       "      <th></th>\n",
       "      <th></th>\n",
       "      <th></th>\n",
       "      <th></th>\n",
       "    </tr>\n",
       "  </thead>\n",
       "  <tbody>\n",
       "    <tr>\n",
       "      <th>ایران اکونومیست</th>\n",
       "      <td>150</td>\n",
       "      <td>150</td>\n",
       "      <td>150</td>\n",
       "      <td>150</td>\n",
       "    </tr>\n",
       "    <tr>\n",
       "      <th>اقتصاد آنلاین</th>\n",
       "      <td>120</td>\n",
       "      <td>120</td>\n",
       "      <td>120</td>\n",
       "      <td>120</td>\n",
       "    </tr>\n",
       "    <tr>\n",
       "      <th>سایت طلا</th>\n",
       "      <td>60</td>\n",
       "      <td>60</td>\n",
       "      <td>60</td>\n",
       "      <td>60</td>\n",
       "    </tr>\n",
       "    <tr>\n",
       "      <th>اقتصاد نیوز</th>\n",
       "      <td>60</td>\n",
       "      <td>60</td>\n",
       "      <td>60</td>\n",
       "      <td>60</td>\n",
       "    </tr>\n",
       "    <tr>\n",
       "      <th>مشرق</th>\n",
       "      <td>30</td>\n",
       "      <td>30</td>\n",
       "      <td>30</td>\n",
       "      <td>30</td>\n",
       "    </tr>\n",
       "  </tbody>\n",
       "</table>\n",
       "</div>"
      ],
      "text/plain": [
       "                 Title  Description  datetime  Category\n",
       "Agency                                                 \n",
       "ایران اکونومیست    150          150       150       150\n",
       "اقتصاد آنلاین      120          120       120       120\n",
       "سایت طلا            60           60        60        60\n",
       "اقتصاد نیوز         60           60        60        60\n",
       "مشرق                30           30        30        30"
      ]
     },
     "execution_count": 121,
     "metadata": {},
     "output_type": "execute_result"
    }
   ],
   "source": [
    "df_currency_trend=df_currency.groupby(pd.Grouper(key=\"Agency\")).count()\n",
    "df_currency_trend=df_currency_trend.sort_values('Title' , ascending=False)\n",
    "(df_currency_trend.head(5))"
   ]
  },
  {
   "cell_type": "code",
   "execution_count": 100,
   "metadata": {},
   "outputs": [
    {
     "data": {
      "text/html": [
       "<div>\n",
       "<style scoped>\n",
       "    .dataframe tbody tr th:only-of-type {\n",
       "        vertical-align: middle;\n",
       "    }\n",
       "\n",
       "    .dataframe tbody tr th {\n",
       "        vertical-align: top;\n",
       "    }\n",
       "\n",
       "    .dataframe thead th {\n",
       "        text-align: right;\n",
       "    }\n",
       "</style>\n",
       "<table border=\"1\" class=\"dataframe\">\n",
       "  <thead>\n",
       "    <tr style=\"text-align: right;\">\n",
       "      <th></th>\n",
       "      <th>Title</th>\n",
       "      <th>Description</th>\n",
       "      <th>datetime</th>\n",
       "      <th>Category</th>\n",
       "    </tr>\n",
       "    <tr>\n",
       "      <th>Agency</th>\n",
       "      <th></th>\n",
       "      <th></th>\n",
       "      <th></th>\n",
       "      <th></th>\n",
       "    </tr>\n",
       "  </thead>\n",
       "  <tbody>\n",
       "    <tr>\n",
       "      <th>اقتصاد آنلاین</th>\n",
       "      <td>150</td>\n",
       "      <td>150</td>\n",
       "      <td>150</td>\n",
       "      <td>150</td>\n",
       "    </tr>\n",
       "    <tr>\n",
       "      <th>ایران اکونومیست</th>\n",
       "      <td>150</td>\n",
       "      <td>150</td>\n",
       "      <td>150</td>\n",
       "      <td>150</td>\n",
       "    </tr>\n",
       "    <tr>\n",
       "      <th>اقتصاد نیوز</th>\n",
       "      <td>60</td>\n",
       "      <td>60</td>\n",
       "      <td>60</td>\n",
       "      <td>60</td>\n",
       "    </tr>\n",
       "    <tr>\n",
       "      <th>مشرق</th>\n",
       "      <td>30</td>\n",
       "      <td>30</td>\n",
       "      <td>30</td>\n",
       "      <td>30</td>\n",
       "    </tr>\n",
       "    <tr>\n",
       "      <th>ایرنا</th>\n",
       "      <td>30</td>\n",
       "      <td>30</td>\n",
       "      <td>30</td>\n",
       "      <td>30</td>\n",
       "    </tr>\n",
       "  </tbody>\n",
       "</table>\n",
       "</div>"
      ],
      "text/plain": [
       "                 Title  Description  datetime  Category\n",
       "Agency                                                 \n",
       "اقتصاد آنلاین      150          150       150       150\n",
       "ایران اکونومیست    150          150       150       150\n",
       "اقتصاد نیوز         60           60        60        60\n",
       "مشرق                30           30        30        30\n",
       "ایرنا               30           30        30        30"
      ]
     },
     "execution_count": 100,
     "metadata": {},
     "output_type": "execute_result"
    }
   ],
   "source": [
    "df_gold_trend=df_gold.groupby(pd.Grouper(key=\"Agency\")).count()\n",
    "df_gold_trend=df_gold_trend.sort_values('Title' , ascending=False)\n",
    "(df_gold_trend.head(5))"
   ]
  },
  {
   "cell_type": "markdown",
   "metadata": {},
   "source": [
    "## Question 2: Daily News Trend"
   ]
  },
  {
   "cell_type": "code",
   "execution_count": 127,
   "metadata": {},
   "outputs": [
    {
     "name": "stderr",
     "output_type": "stream",
     "text": [
      "C:\\Users\\AU\\AppData\\Local\\Temp\\ipykernel_18976\\2115027442.py:5: SettingWithCopyWarning: \n",
      "A value is trying to be set on a copy of a slice from a DataFrame\n",
      "\n",
      "See the caveats in the documentation: https://pandas.pydata.org/pandas-docs/stable/user_guide/indexing.html#returning-a-view-versus-a-copy\n",
      "  df_currency.iloc[j]['datetime']=b[0]\n"
     ]
    },
    {
     "data": {
      "text/plain": [
       "[<matplotlib.lines.Line2D at 0x174433ffc40>]"
      ]
     },
     "execution_count": 127,
     "metadata": {},
     "output_type": "execute_result"
    },
    {
     "data": {
      "image/png": "[encoded data removed]",
      "text/plain": [
       "<Figure size 432x288 with 1 Axes>"
      ]
     },
     "metadata": {
      "needs_background": "light"
     },
     "output_type": "display_data"
    }
   ],
   "source": [
    "#currency\n",
    "j=0\n",
    "for i in df_currency[:]['datetime']:\n",
    "    b=i.split(' ')\n",
    "    df_currency.iloc[j]['datetime']=b[0]\n",
    "    j=j+1\n",
    "#based on recent date=trend\n",
    "df_currency_date=df_currency.groupby(pd.Grouper(key=\"datetime\")).count()\n",
    "df_currency_date.sort_values('datetime') \n",
    "#plot\n",
    "fig ,x = plt.subplots()\n",
    "plt.title('currency daily news trend')\n",
    "plt.xlabel('date')\n",
    "plt.ylabel('number of news')\n",
    "x.plot(df_currency_date.index,df_currency_date.iloc[:]['Category'])\n",
    "x.set_xticks(df_currency_date.index)\n",
    "x.set_xticklabels(df_currency_date.index, rotation=45)\n",
    "plt.plot(df_currency_date.index,df_currency_date.iloc[:]['Category'])\n"
   ]
  },
  {
   "cell_type": "code",
   "execution_count": 129,
   "metadata": {},
   "outputs": [
    {
     "name": "stderr",
     "output_type": "stream",
     "text": [
      "C:\\Users\\AU\\AppData\\Local\\Temp\\ipykernel_18976\\1127263291.py:5: SettingWithCopyWarning: \n",
      "A value is trying to be set on a copy of a slice from a DataFrame\n",
      "\n",
      "See the caveats in the documentation: https://pandas.pydata.org/pandas-docs/stable/user_guide/indexing.html#returning-a-view-versus-a-copy\n",
      "  df_gold.iloc[j]['datetime']=b[0]\n"
     ]
    },
    {
     "data": {
      "text/plain": [
       "[<matplotlib.lines.Line2D at 0x1744223d0a0>]"
      ]
     },
     "execution_count": 129,
     "metadata": {},
     "output_type": "execute_result"
    },
    {
     "data": {
      "image/png": "[encoded data removed]",
      "text/plain": [
       "<Figure size 432x288 with 1 Axes>"
      ]
     },
     "metadata": {
      "needs_background": "light"
     },
     "output_type": "display_data"
    }
   ],
   "source": [
    "#gold \n",
    "j=0\n",
    "for i in df_gold[:]['datetime']:\n",
    "    b=i.split(' ')\n",
    "    df_gold.iloc[j]['datetime']=b[0]\n",
    "    j=j+1\n",
    "#based on recent date=trend\n",
    "df_gold_date=df_gold.groupby(pd.Grouper(key=\"datetime\")).count()\n",
    "df_gold_date.sort_values('datetime')\n",
    "#plot\n",
    "fig, x = plt.subplots()\n",
    "plt.title('gold daily news trend')\n",
    "plt.xlabel('date')\n",
    "plt.ylabel('number of news')\n",
    "x.plot(df_gold_date.index,df_gold_date.iloc[:]['Title'])\n",
    "x.set_xticks(df_gold_date.index)\n",
    "x.set_xticklabels(df_gold_date.index, rotation=25)\n",
    "plt.plot(df_gold_date.index,df_gold_date.iloc[:]['Title'])"
   ]
  }
 ],
 "metadata": {
  "kernelspec": {
   "display_name": "Python 3 (ipykernel)",
   "language": "python",
   "name": "python3"
  },
  "language_info": {
   "codemirror_mode": {
    "name": "ipython",
    "version": 3
   },
   "file_extension": ".py",
   "mimetype": "text/x-python",
   "name": "python",
   "nbconvert_exporter": "python",
   "pygments_lexer": "ipython3",
   "version": "3.9.12"
  },
  "vscode": {
   "interpreter": {
    "hash": "916dbcbb3f70747c44a77c7bcd40155683ae19c65e1c03b4aa3499c5328201f1"
   }
  }
 },
 "nbformat": 4,
 "nbformat_minor": 2
}
